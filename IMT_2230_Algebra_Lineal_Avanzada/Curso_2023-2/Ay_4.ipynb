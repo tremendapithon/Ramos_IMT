{
 "cells": [
  {
   "cell_type": "markdown",
   "metadata": {},
   "source": [
    "# Ayudantía 4 IMT2230\n",
    "\n",
    "## Ayudante: Pablo Rademacher"
   ]
  },
  {
   "cell_type": "markdown",
   "metadata": {},
   "source": [
    "# P1"
   ]
  },
  {
   "cell_type": "code",
   "execution_count": 3,
   "metadata": {},
   "outputs": [
    {
     "name": "stdout",
     "output_type": "stream",
     "text": [
      "16.06237840420901\n",
      "16.06237840420901\n",
      "16.06237840420901\n",
      "16.06237840420901\n"
     ]
    }
   ],
   "source": [
    "import numpy as np\n",
    "\n",
    "\n",
    "# por componentes\n",
    "def frob_norm(A):\n",
    "    suma = 0\n",
    "    for i in range(len(A)):\n",
    "        for j in range(len(A[0])):\n",
    "            suma += A[i,j]**2\n",
    "    return np.sqrt(suma)\n",
    "\n",
    "\n",
    "# por filas\n",
    "def frob_norm2(A):\n",
    "    suma = 0\n",
    "    for i in range(len(A)):\n",
    "        suma += np.linalg.norm(A[i])**2\n",
    "    return np.sqrt(suma)\n",
    "\n",
    "\n",
    "# por columnas\n",
    "def frob_norm3(A):\n",
    "    suma = 0\n",
    "    for i in range(len(A[0])):\n",
    "        suma += np.linalg.norm(A[:,i])**2\n",
    "    return np.sqrt(suma)\n",
    "\n",
    "\n",
    "A = np.array([[3, 4, 5], [12, 0, 8]])\n",
    "print(frob_norm(A))\n",
    "print(frob_norm2(A))\n",
    "print(frob_norm3(A))\n",
    "print(np.linalg.norm(A, ord=\"fro\"))"
   ]
  },
  {
   "cell_type": "markdown",
   "metadata": {},
   "source": [
    "# P2"
   ]
  },
  {
   "cell_type": "code",
   "execution_count": 4,
   "metadata": {},
   "outputs": [],
   "source": [
    "import numpy.linalg as nl\n",
    "\n",
    "\n",
    "def find_u_v_sigma(A):\n",
    "    U, S, VH = nl.svd(A)\n",
    "    return U[:, 0], S[0], VH[0]\n",
    "\n",
    "\n",
    "def rank_one_approx(A):\n",
    "    u1, s1, v1 = find_u_v_sigma(A)\n",
    "    B = np.outer(A@v1, v1)  # Av1 v1^T\n",
    "    return B"
   ]
  },
  {
   "cell_type": "code",
   "execution_count": 6,
   "metadata": {},
   "outputs": [
    {
     "name": "stdout",
     "output_type": "stream",
     "text": [
      "La matriz de rango 1 que mejor aproxima a A es la siguiente:\n",
      "[[2.77347905 5.69146245 2.34240825]\n",
      " [1.28922581 2.64562313 1.08884658]\n",
      " [0.36382006 0.74659595 0.30727296]\n",
      " [1.99698471 4.09801672 1.68660134]]\n",
      "\n",
      "\n",
      "El error de aproximación es 7.692248092035996.\n",
      "\n",
      "\n",
      "Estas cantidades debiesen ser iguales:\n",
      "59.17068070943142\n",
      "59.17068070943141\n",
      "\n",
      "\n",
      "Estos vectores debiesen ser iguales\n",
      "[-0.75555644 -0.35121335 -0.09911255 -0.54402238]\n",
      "[-0.75555644 -0.35121335 -0.09911255 -0.54402238]\n"
     ]
    }
   ],
   "source": [
    "A = np.array([[4, 4, 5],\n",
    "              [1, 2, 3],\n",
    "              [3, 0, -1],\n",
    "              [0, 7, -3]])\n",
    "\n",
    "\n",
    "B = rank_one_approx(A)\n",
    "print(\"La matriz de rango 1 que mejor aproxima a A es la siguiente:\")\n",
    "print(B)\n",
    "print(\"\\n\")\n",
    "\n",
    "print(f\"El error de aproximación es {frob_norm(A-B)}.\")\n",
    "print(\"\\n\")\n",
    "\n",
    "u1, s1, v1 = find_u_v_sigma(A)\n",
    "print(\"Estas cantidades debiesen ser iguales:\")\n",
    "print(frob_norm(A-B)**2)\n",
    "print(frob_norm(A)**2 - s1**2)\n",
    "print(\"\\n\")\n",
    "\n",
    "\n",
    "print(\"Estos vectores debiesen ser iguales\")\n",
    "print(u1)\n",
    "print(1/s1*A@v1)"
   ]
  },
  {
   "cell_type": "code",
   "execution_count": 7,
   "metadata": {},
   "outputs": [
    {
     "name": "stdout",
     "output_type": "stream",
     "text": [
      "La matriz de rango 1 que mejor aproxima a A es la siguiente:\n",
      "[[ 1.19965463  2.39930926  2.708187   10.20474784 -2.10067618]\n",
      " [-0.39761152 -0.79522304 -0.89759696 -3.38224451  0.69624459]]\n",
      "\n",
      "\n",
      "El error de aproximación es 4.404504365313486.\n",
      "\n",
      "\n",
      "Estas cantidades debiesen ser iguales:\n",
      "19.39965870406556\n",
      "19.39965870406556\n",
      "\n",
      "\n",
      "Estos vectores debiesen ser iguales\n",
      "[-0.94922155  0.3146084 ]\n",
      "[-0.94922155  0.3146084 ]\n"
     ]
    }
   ],
   "source": [
    "A = np.array([[1, 2, 4, 10, -2],\n",
    "              [-1, -2, 3, -4, 1]])\n",
    "\n",
    "\n",
    "B = rank_one_approx(A)\n",
    "print(\"La matriz de rango 1 que mejor aproxima a A es la siguiente:\")\n",
    "print(B)\n",
    "print(\"\\n\")\n",
    "\n",
    "print(f\"El error de aproximación es {frob_norm(A-B)}.\")\n",
    "print(\"\\n\")\n",
    "\n",
    "u1, s1, v1 = find_u_v_sigma(A)\n",
    "print(\"Estas cantidades debiesen ser iguales:\")\n",
    "print(frob_norm(A-B)**2)\n",
    "print(frob_norm(A)**2 - s1**2)\n",
    "print(\"\\n\")\n",
    "\n",
    "\n",
    "print(\"Estos vectores debiesen ser iguales\")\n",
    "print(u1)\n",
    "print(1/s1*A@v1)"
   ]
  },
  {
   "cell_type": "code",
   "execution_count": 8,
   "metadata": {},
   "outputs": [
    {
     "name": "stdout",
     "output_type": "stream",
     "text": [
      "La matriz de rango 1 que mejor aproxima a A es la siguiente:\n",
      "[[-0.13359977 -0.03858877 -0.30578831]\n",
      " [ 1.6976709   0.49035281  3.88569461]\n",
      " [ 2.64670618  0.76447079  6.05788315]]\n",
      "\n",
      "\n",
      "El error de aproximación es 4.835140445700768.\n",
      "\n",
      "\n",
      "Estas cantidades debiesen ser iguales:\n",
      "23.37858312965142\n",
      "23.378583129651417\n",
      "\n",
      "\n",
      "Estos vectores debiesen ser iguales\n",
      "[-0.0424501   0.53941933  0.84096657]\n",
      "[-0.0424501   0.53941933  0.84096657]\n"
     ]
    }
   ],
   "source": [
    "A = np.array([[-2, 4, 0],\n",
    "              [1, 2, 4],\n",
    "              [3, 0, 6]])\n",
    "\n",
    "\n",
    "B = rank_one_approx(A)\n",
    "print(\"La matriz de rango 1 que mejor aproxima a A es la siguiente:\")\n",
    "print(B)\n",
    "print(\"\\n\")\n",
    "\n",
    "print(f\"El error de aproximación es {frob_norm(A-B)}.\")\n",
    "print(\"\\n\")\n",
    "\n",
    "u1, s1, v1 = find_u_v_sigma(A)\n",
    "print(\"Estas cantidades debiesen ser iguales:\")\n",
    "print(frob_norm(A-B)**2)\n",
    "print(frob_norm(A)**2 - s1**2)\n",
    "print(\"\\n\")\n",
    "\n",
    "\n",
    "print(\"Estos vectores debiesen ser iguales\")\n",
    "print(u1)\n",
    "print(1/s1*A@v1)"
   ]
  },
  {
   "cell_type": "markdown",
   "metadata": {},
   "source": [
    "# P3"
   ]
  },
  {
   "cell_type": "code",
   "execution_count": 10,
   "metadata": {},
   "outputs": [
    {
     "data": {
      "text/html": [
       "<div>\n",
       "<style scoped>\n",
       "    .dataframe tbody tr th:only-of-type {\n",
       "        vertical-align: middle;\n",
       "    }\n",
       "\n",
       "    .dataframe tbody tr th {\n",
       "        vertical-align: top;\n",
       "    }\n",
       "\n",
       "    .dataframe thead th {\n",
       "        text-align: right;\n",
       "    }\n",
       "</style>\n",
       "<table border=\"1\" class=\"dataframe\">\n",
       "  <thead>\n",
       "    <tr style=\"text-align: right;\">\n",
       "      <th></th>\n",
       "      <th>HDI rank</th>\n",
       "      <th>Country</th>\n",
       "      <th>Human Development Index (HDI)</th>\n",
       "      <th>Life expectancy at birth (decades)</th>\n",
       "      <th>Expected years of schooling</th>\n",
       "      <th>Mean years of schooling</th>\n",
       "      <th>Gross national income (GNI) per capita (1k dollars)</th>\n",
       "    </tr>\n",
       "  </thead>\n",
       "  <tbody>\n",
       "    <tr>\n",
       "      <th>0</th>\n",
       "      <td>42</td>\n",
       "      <td>Chile</td>\n",
       "      <td>0.855</td>\n",
       "      <td>7.89</td>\n",
       "      <td>16.7</td>\n",
       "      <td>10.9</td>\n",
       "      <td>24.563</td>\n",
       "    </tr>\n",
       "    <tr>\n",
       "      <th>1</th>\n",
       "      <td>47</td>\n",
       "      <td>Argentina</td>\n",
       "      <td>0.842</td>\n",
       "      <td>7.54</td>\n",
       "      <td>17.9</td>\n",
       "      <td>11.1</td>\n",
       "      <td>20.925</td>\n",
       "    </tr>\n",
       "    <tr>\n",
       "      <th>2</th>\n",
       "      <td>58</td>\n",
       "      <td>Uruguay</td>\n",
       "      <td>0.809</td>\n",
       "      <td>7.54</td>\n",
       "      <td>16.8</td>\n",
       "      <td>9.0</td>\n",
       "      <td>21.269</td>\n",
       "    </tr>\n",
       "    <tr>\n",
       "      <th>3</th>\n",
       "      <td>84</td>\n",
       "      <td>Peru</td>\n",
       "      <td>0.762</td>\n",
       "      <td>7.24</td>\n",
       "      <td>15.4</td>\n",
       "      <td>9.9</td>\n",
       "      <td>12.246</td>\n",
       "    </tr>\n",
       "    <tr>\n",
       "      <th>4</th>\n",
       "      <td>87</td>\n",
       "      <td>Brazil</td>\n",
       "      <td>0.754</td>\n",
       "      <td>7.28</td>\n",
       "      <td>15.6</td>\n",
       "      <td>8.1</td>\n",
       "      <td>14.370</td>\n",
       "    </tr>\n",
       "  </tbody>\n",
       "</table>\n",
       "</div>"
      ],
      "text/plain": [
       "   HDI rank    Country  Human Development Index (HDI)    \n",
       "0        42      Chile                           0.855  \\\n",
       "1        47  Argentina                           0.842   \n",
       "2        58    Uruguay                           0.809   \n",
       "3        84       Peru                           0.762   \n",
       "4        87     Brazil                           0.754   \n",
       "\n",
       "   Life expectancy at birth (decades)  Expected years of schooling   \n",
       "0                                7.89                         16.7  \\\n",
       "1                                7.54                         17.9   \n",
       "2                                7.54                         16.8   \n",
       "3                                7.24                         15.4   \n",
       "4                                7.28                         15.6   \n",
       "\n",
       "   Mean years of schooling   \n",
       "0                     10.9  \\\n",
       "1                     11.1   \n",
       "2                      9.0   \n",
       "3                      9.9   \n",
       "4                      8.1   \n",
       "\n",
       "   Gross national income (GNI) per capita (1k dollars)  \n",
       "0                                             24.563    \n",
       "1                                             20.925    \n",
       "2                                             21.269    \n",
       "3                                             12.246    \n",
       "4                                             14.370    "
      ]
     },
     "execution_count": 10,
     "metadata": {},
     "output_type": "execute_result"
    }
   ],
   "source": [
    "# a)\n",
    "\n",
    "import pandas as pd\n",
    "\n",
    "\n",
    "df = pd.read_csv(\"HDI.csv\", encoding=\"latin-1\", thousands=\",\")\n",
    "df.head()"
   ]
  },
  {
   "cell_type": "code",
   "execution_count": 11,
   "metadata": {},
   "outputs": [],
   "source": [
    "datos = df[[\"Life expectancy at birth (decades)\", \"Expected years of schooling\", \"Mean years of schooling\", \"Gross national income (GNI) per capita (1k dollars)\"]]"
   ]
  },
  {
   "cell_type": "code",
   "execution_count": 12,
   "metadata": {},
   "outputs": [],
   "source": [
    "A = datos.to_numpy()\n"
   ]
  },
  {
   "cell_type": "code",
   "execution_count": 151,
   "metadata": {},
   "outputs": [
    {
     "name": "stdout",
     "output_type": "stream",
     "text": [
      "[[ 7.89  16.7   10.9   24.563]\n",
      " [ 7.54  17.9   11.1   20.925]\n",
      " [ 7.54  16.8    9.    21.269]\n",
      " [ 7.24  15.4    9.9   12.246]\n",
      " [ 7.28  15.6    8.1   14.37 ]\n",
      " [ 7.28  14.4    8.9   14.384]\n",
      " [ 7.37  14.6    8.8   10.312]\n",
      " [ 7.03  13.     8.9   12.349]\n",
      " [ 6.36  14.9    9.8    8.111]\n",
      " [ 7.06  12.8   11.1    4.811]]\n"
     ]
    }
   ],
   "source": [
    "print(A)"
   ]
  },
  {
   "cell_type": "code",
   "execution_count": 13,
   "metadata": {},
   "outputs": [
    {
     "name": "stdout",
     "output_type": "stream",
     "text": [
      "[-0.29242956 -0.61851957 -0.38754094 -0.61784344]\n",
      "[-32.03683064229155, -30.506497550152254, -29.224828183384435, -23.04515744752801, -23.795284302465266, -23.37174338163686, -20.967153391999844, -21.175397202307693, -19.88502294901992, -17.255752433842005]\n"
     ]
    }
   ],
   "source": [
    "# b)\n",
    "\n",
    "_, _, v1 = find_u_v_sigma(A)\n",
    "print(v1)\n",
    "proyecciones = [np.dot(dato, v1) for dato in A]\n",
    "print(proyecciones)"
   ]
  },
  {
   "cell_type": "code",
   "execution_count": 14,
   "metadata": {},
   "outputs": [],
   "source": [
    "import matplotlib.pyplot as plt\n",
    "\n",
    "\n",
    "def graph_labeled_line(proyecciones):\n",
    "    positions = range(len(proyecciones))\n",
    "    \n",
    "    # Create the real number line plot\n",
    "    plt.figure(figsize=(10, 1)) \n",
    "    plt.plot(proyecciones, [0] * len(proyecciones), 'bo', markersize=10)  \n",
    "    plt.xticks(proyecciones, positions)  # Label x-axis with positions\n",
    "    plt.yticks([])\n",
    "    plt.xlabel('Posicion Estimada')\n",
    "    plt.title('Ranking Estimado de HDI')\n",
    "    plt.grid(True)\n",
    "    plt.show()"
   ]
  },
  {
   "cell_type": "code",
   "execution_count": 15,
   "metadata": {},
   "outputs": [
    {
     "data": {
      "image/png": "[encoded data removed]",
      "text/plain": [
       "<Figure size 1000x100 with 1 Axes>"
      ]
     },
     "metadata": {},
     "output_type": "display_data"
    }
   ],
   "source": [
    "graph_labeled_line(proyecciones)"
   ]
  },
  {
   "cell_type": "code",
   "execution_count": 16,
   "metadata": {},
   "outputs": [
    {
     "name": "stdout",
     "output_type": "stream",
     "text": [
      "[-0.04937317 -0.21435334 -0.02230227 -0.97525255]\n",
      "[-10.354277164005056, -7.05071223174073, -7.103575655346699, 1.9909627175231621, -0.08517520641659838, 0.14055344985924378, 4.066697819950904, 2.4376303694008037, 6.176487316209079, 9.781408584565895]\n"
     ]
    },
    {
     "data": {
      "image/png": "[encoded data removed]",
      "text/plain": [
       "<Figure size 1000x100 with 1 Axes>"
      ]
     },
     "metadata": {},
     "output_type": "display_data"
    }
   ],
   "source": [
    "# c)\n",
    "\n",
    "c = np.mean(A, axis=0)\n",
    "\n",
    "C = np.array([row-c for row in A])\n",
    "\n",
    "_, _, v1 = find_u_v_sigma(C)\n",
    "print(v1)\n",
    "proyecciones = [np.dot(dato, v1) for dato in C]\n",
    "print(proyecciones)\n",
    "\n",
    "graph_labeled_line(proyecciones)\n"
   ]
  },
  {
   "cell_type": "code",
   "execution_count": null,
   "metadata": {},
   "outputs": [],
   "source": []
  }
 ],
 "metadata": {
  "kernelspec": {
   "display_name": "Python 3",
   "language": "python",
   "name": "python3"
  },
  "language_info": {
   "codemirror_mode": {
    "name": "ipython",
    "version": 3
   },
   "file_extension": ".py",
   "mimetype": "text/x-python",
   "name": "python",
   "nbconvert_exporter": "python",
   "pygments_lexer": "ipython3",
   "version": "3.9.13"
  },
  "orig_nbformat": 4
 },
 "nbformat": 4,
 "nbformat_minor": 2
}
