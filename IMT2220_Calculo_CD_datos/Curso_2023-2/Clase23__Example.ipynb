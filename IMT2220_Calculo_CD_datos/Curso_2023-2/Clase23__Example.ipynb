{
 "cells": [
  {
   "cell_type": "code",
   "execution_count": 1,
   "id": "65dd23f8",
   "metadata": {},
   "outputs": [],
   "source": [
    "import numpy as np\n",
    "from scipy.integrate import quad\n",
    "import matplotlib.pyplot as plt"
   ]
  },
  {
   "cell_type": "code",
   "execution_count": 2,
   "id": "274a0846",
   "metadata": {},
   "outputs": [],
   "source": [
    "def a0(f):\n",
    "    return (1/np.pi)*quad(lambda x: f(x)/np.sqrt(2), -np.pi, np.pi)[0]\n",
    "\n",
    "def a(f, n):\n",
    "    return (1/np.pi)*quad(lambda x: f(x)*np.cos(n*x), -np.pi, np.pi)[0]\n",
    "\n",
    "def b(f, n):\n",
    "    return (1/np.pi)*quad(lambda x: f(x)*np.sin(n*x), -np.pi, np.pi)[0]"
   ]
  },
  {
   "cell_type": "code",
   "execution_count": 3,
   "id": "e4093a62",
   "metadata": {},
   "outputs": [],
   "source": [
    "def coeffs(f, N=0):\n",
    "    \n",
    "    l = [a0(f)]\n",
    "    if N > 0:\n",
    "        for n in range(1, N + 1):\n",
    "            l.append([a(f, n), b(f, n)])\n",
    "    return l\n",
    "    \n",
    "def series(x, coeffs):\n",
    "    \n",
    "    s = coeffs[0]/np.sqrt(2)\n",
    "    \n",
    "    if len(coeffs) > 1:\n",
    "        for n in range(1, len(coeffs)):\n",
    "            s += coeffs[n][0]*np.cos(n*x) + coeffs[n][1]*np.sin(n*x)\n",
    "    \n",
    "    return s"
   ]
  },
  {
   "cell_type": "code",
   "execution_count": 4,
   "id": "ce35554a",
   "metadata": {},
   "outputs": [],
   "source": [
    "# Creación función discontinua en 0\n",
    "def disc_f(x):\n",
    "    \n",
    "    if x < 0:\n",
    "        return (x + np.pi)/np.pi\n",
    "    \n",
    "    return (1./2.) - x/(2.*np.pi)\n",
    "    \n",
    "disc_f_vec = np.vectorize(disc_f)\n",
    "\n",
    "\n",
    "\n",
    "# Función continua\n",
    "\n",
    "f = lambda x: x\n",
    "\n",
    "# Función continua periódica\n",
    "\n",
    "g = lambda x: x**2 - np.pi**2"
   ]
  },
  {
   "cell_type": "code",
   "execution_count": 16,
   "id": "d156c2f7",
   "metadata": {},
   "outputs": [
    {
     "data": {
      "image/png": "[encoded data removed]",
      "text/plain": [
       "<Figure size 432x432 with 1 Axes>"
      ]
     },
     "metadata": {
      "needs_background": "light"
     },
     "output_type": "display_data"
    }
   ],
   "source": [
    "#%matplotlib\n",
    "\n",
    "N = 10\n",
    "\n",
    "t = np.linspace(-np.pi, np.pi, num=1000)\n",
    "\n",
    "\n",
    "coeffs_f = coeffs(f, N=N) # Cambiar esto dependiendo de la función a utilizar\n",
    "\n",
    "svec = np.vectorize(lambda x: series(x, coeffs_f))\n",
    "\n",
    "\n",
    "plt.figure(figsize=(6, 6))\n",
    "# plt.plot(t, disc_f_vec(t), label='$f$', lw=2, color='black', alpha=0.8\n",
    "plt.plot(t, f(t), label='$f$', lw=2, color='black', alpha=0.8)\n",
    "plt.plot(t, svec(t), label=f'Series $N={N}$', lw=2, color='blue', alpha=0.8)\n",
    "\n",
    "#plt.vlines(0, 0, 3/4, color='red', ls='--', lw=3)\n",
    "#plt.scatter(0, 3/4, s=100, c='r')\n",
    "\n",
    "plt.legend(loc='best', fontsize=20)\n",
    "\n",
    "plt.ion()"
   ]
  },
  {
   "cell_type": "code",
   "execution_count": null,
   "id": "f01f9ae6",
   "metadata": {},
   "outputs": [],
   "source": []
  }
 ],
 "metadata": {
  "kernelspec": {
   "display_name": "Python 3",
   "language": "python",
   "name": "python3"
  },
  "language_info": {
   "codemirror_mode": {
    "name": "ipython",
    "version": 3
   },
   "file_extension": ".py",
   "mimetype": "text/x-python",
   "name": "python",
   "nbconvert_exporter": "python",
   "pygments_lexer": "ipython3",
   "version": "3.8.5"
  }
 },
 "nbformat": 4,
 "nbformat_minor": 5
}
