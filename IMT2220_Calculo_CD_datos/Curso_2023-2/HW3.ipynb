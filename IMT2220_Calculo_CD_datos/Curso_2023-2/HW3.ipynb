{
 "cells": [
  {
   "cell_type": "code",
   "execution_count": 1,
   "id": "0f257d47",
   "metadata": {},
   "outputs": [],
   "source": [
    "import numpy as np\n",
    "import matplotlib.pyplot as plt"
   ]
  },
  {
   "cell_type": "code",
   "execution_count": 29,
   "id": "8e9f7be1",
   "metadata": {},
   "outputs": [],
   "source": [
    "x = np.linspace(1, 2, num=1000)\n",
    "y = -3*x + 1 + np.random.normal(size=1000, scale=0.4)"
   ]
  },
  {
   "cell_type": "code",
   "execution_count": 30,
   "id": "8d11860d",
   "metadata": {},
   "outputs": [
    {
     "data": {
      "text/plain": [
       "<matplotlib.collections.PathCollection at 0x7fa29aa7ef40>"
      ]
     },
     "execution_count": 30,
     "metadata": {},
     "output_type": "execute_result"
    },
    {
     "data": {
      "image/png": "[encoded data removed]",
      "text/plain": [
       "<Figure size 432x288 with 1 Axes>"
      ]
     },
     "metadata": {
      "needs_background": "light"
     },
     "output_type": "display_data"
    }
   ],
   "source": [
    "plt.scatter(x, y)"
   ]
  },
  {
   "cell_type": "code",
   "execution_count": 31,
   "id": "11a26ea4",
   "metadata": {},
   "outputs": [],
   "source": [
    "N = x.size\n",
    "\n",
    "A = np.zeros((N, 2), dtype=float)\n",
    "\n",
    "A[:,0] = x\n",
    "A[:,1] = 1\n",
    "\n",
    "ATA = A.T@A  \n",
    "ATy = A.T@y"
   ]
  },
  {
   "cell_type": "code",
   "execution_count": 32,
   "id": "e4cf3992",
   "metadata": {},
   "outputs": [],
   "source": [
    "xstar = np.linalg.solve(ATA, ATy)"
   ]
  },
  {
   "cell_type": "code",
   "execution_count": 33,
   "id": "dd2105c1",
   "metadata": {},
   "outputs": [
    {
     "name": "stdout",
     "output_type": "stream",
     "text": [
      "[-3.05416899  1.07351838]\n"
     ]
    }
   ],
   "source": [
    "print(xstar)"
   ]
  },
  {
   "cell_type": "code",
   "execution_count": 34,
   "id": "296b773d",
   "metadata": {},
   "outputs": [],
   "source": [
    "X = np.zeros((N, 2), dtype=float)\n",
    "\n",
    "X[:,0] = x\n",
    "X[:,1] = y"
   ]
  },
  {
   "cell_type": "code",
   "execution_count": 35,
   "id": "616712e4",
   "metadata": {},
   "outputs": [
    {
     "name": "stdout",
     "output_type": "stream",
     "text": [
      "[[ 1.         -2.51607903]\n",
      " [ 1.001001   -1.87210833]\n",
      " [ 1.002002   -1.99068691]\n",
      " ...\n",
      " [ 1.997998   -5.07911524]\n",
      " [ 1.998999   -3.88483076]\n",
      " [ 2.         -5.55084387]]\n"
     ]
    }
   ],
   "source": [
    "print(X)"
   ]
  },
  {
   "cell_type": "code",
   "execution_count": 36,
   "id": "5b049773",
   "metadata": {},
   "outputs": [],
   "source": [
    "np.savetxt('data_HW3.csv', X, delimiter=',', header='x,y')"
   ]
  },
  {
   "cell_type": "code",
   "execution_count": null,
   "id": "119b62e9",
   "metadata": {},
   "outputs": [],
   "source": []
  }
 ],
 "metadata": {
  "kernelspec": {
   "display_name": "Python 3",
   "language": "python",
   "name": "python3"
  },
  "language_info": {
   "codemirror_mode": {
    "name": "ipython",
    "version": 3
   },
   "file_extension": ".py",
   "mimetype": "text/x-python",
   "name": "python",
   "nbconvert_exporter": "python",
   "pygments_lexer": "ipython3",
   "version": "3.8.5"
  }
 },
 "nbformat": 4,
 "nbformat_minor": 5
}
