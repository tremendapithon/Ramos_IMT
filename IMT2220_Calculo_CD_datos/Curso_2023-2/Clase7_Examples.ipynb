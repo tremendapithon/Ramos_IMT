{
 "cells": [
  {
   "cell_type": "code",
   "execution_count": 1,
   "id": "6c6eea8e",
   "metadata": {},
   "outputs": [],
   "source": [
    "import numpy as np\n",
    "import matplotlib.pyplot as plt"
   ]
  },
  {
   "cell_type": "code",
   "execution_count": 6,
   "id": "3cb1249a",
   "metadata": {},
   "outputs": [],
   "source": [
    "t = np.linspace(-1, 1, num=200)\n",
    "\n",
    "x, y = np.meshgrid(t, t)\n",
    "\n",
    "def f(x, y):\n",
    "    \n",
    "    if x == 0 and y == 0:\n",
    "        return 0\n",
    "    \n",
    "    return  x*y/(x**2 + y**2)\n",
    "\n",
    "fvec = np.vectorize(f)\n",
    "\n",
    "z = 0 + 0*x + 0*y"
   ]
  },
  {
   "cell_type": "code",
   "execution_count": 7,
   "id": "20d283f4",
   "metadata": {},
   "outputs": [
    {
     "name": "stdout",
     "output_type": "stream",
     "text": [
      "Using matplotlib backend: MacOSX\n"
     ]
    }
   ],
   "source": [
    "%matplotlib\n",
    "\n",
    "fig, ax = plt.subplots(figsize=(8, 8), subplot_kw={'projection':'3d'})\n",
    "\n",
    "ax.plot_surface(x, y, fvec(x, y), alpha=0.5)\n",
    "ax.plot_surface(x, y, z)\n",
    "\n",
    "plt.show()"
   ]
  },
  {
   "cell_type": "code",
   "execution_count": 5,
   "id": "57f47cdb",
   "metadata": {},
   "outputs": [
    {
     "name": "stdout",
     "output_type": "stream",
     "text": [
      "Using matplotlib backend: MacOSX\n"
     ]
    }
   ],
   "source": [
    "%matplotlib\n",
    "\n",
    "f1 = lambda x, y: x*y - x*np.cos(y**2)\n",
    "\n",
    "# plano tangente al punto (0, 0, 0)\n",
    "Π = lambda x, y: - x\n",
    "\n",
    "# Derivadas parciales de f1\n",
    "fx = lambda x, y: y - np.cos(y**2)\n",
    "fy = lambda x, y: x*(1 + 2*y*np.sin(y**2))\n",
    "\n",
    "# Curvas para x0, y0 constante\n",
    "f_xcte = lambda y: f1(0, y)\n",
    "f_ycte = lambda x: f1(x, 0)\n",
    "\n",
    "fig, ax = plt.subplots(figsize=(8, 8), subplot_kw={'projection':'3d'})\n",
    "\n",
    "# Funcion\n",
    "ax.plot_surface(x, y, f1(x, y), alpha=0.5)\n",
    "\n",
    "# Plano tangente\n",
    "ax.plot_surface(x, y, Π(x, y), alpha=0.5)\n",
    "\n",
    "\n",
    "# Curvas a través de x cte e y cte\n",
    "ax.plot(0*t, t, f_xcte(t), ls='--', color='black')\n",
    "ax.plot(t, 0*t, f_ycte(t), ls='--', color='black')\n",
    "\n",
    "# vector normal: (1, 0, 1)\n",
    "ax.quiver(0, 0, 0, 1, 0, 1, color='black', normalize=True, label='$n$', arrow_length_ratio=0.1)\n",
    "\n",
    "# vector dirección dx\n",
    "ax.quiver(0, 0, 0, 1, 0, fx(0, 0), color='blue', normalize=True, label='$d_x$', arrow_length_ratio=0.1)\n",
    "\n",
    "# vector dirección dy\n",
    "ax.quiver(0, 0, 0, 0, 1, fy(0, 0), color='red', normalize=True, label='$d_y$', arrow_length_ratio=0.1)\n",
    "\n",
    "ax.scatter(0, 0, 0, color='black', s=100)\n",
    "\n",
    "ax.set_xlabel('x')\n",
    "ax.set_ylabel('y')\n",
    "ax.set_zlabel('z')\n",
    "\n",
    "ax.set_zlim(-1, 1)\n",
    "\n",
    "ax.set_xticks([-1, -0.5, 0, 0.5, 1])\n",
    "ax.set_yticks([-1, -0.5, 0, 0.5, 1])\n",
    "\n",
    "\n",
    "ax.grid(False)\n",
    "\n",
    "plt.legend(loc='best')\n",
    "\n",
    "plt.show()"
   ]
  },
  {
   "cell_type": "code",
   "execution_count": null,
   "id": "262c0cae",
   "metadata": {},
   "outputs": [],
   "source": []
  }
 ],
 "metadata": {
  "kernelspec": {
   "display_name": "Python 3",
   "language": "python",
   "name": "python3"
  },
  "language_info": {
   "codemirror_mode": {
    "name": "ipython",
    "version": 3
   },
   "file_extension": ".py",
   "mimetype": "text/x-python",
   "name": "python",
   "nbconvert_exporter": "python",
   "pygments_lexer": "ipython3",
   "version": "3.8.5"
  }
 },
 "nbformat": 4,
 "nbformat_minor": 5
}
